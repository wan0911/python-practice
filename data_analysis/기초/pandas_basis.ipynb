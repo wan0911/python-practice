{
 "cells": [
  {
   "cell_type": "markdown",
   "id": "0689e217",
   "metadata": {},
   "source": [
    "## 데이터 입출력\n",
    "---"
   ]
  },
  {
   "cell_type": "markdown",
   "id": "916c9e56",
   "metadata": {},
   "source": [
    "### 1. 기업정보 데이터"
   ]
  },
  {
   "cell_type": "code",
   "execution_count": 7,
   "id": "91a7fc8a",
   "metadata": {},
   "outputs": [],
   "source": [
    "# 라이브러리\n",
    "import os\n",
    "import chardet\n",
    "import pandas as pd"
   ]
  },
  {
   "cell_type": "code",
   "execution_count": 2,
   "id": "d802102e",
   "metadata": {},
   "outputs": [
    {
     "data": {
      "text/plain": [
       "'/Users/jang-uijin/Desktop/코딩/파이썬/[탈잉]파이썬 데이터분석'"
      ]
     },
     "execution_count": 2,
     "metadata": {},
     "output_type": "execute_result"
    }
   ],
   "source": [
    "# 현재 작업경로\n",
    "os.getcwd()"
   ]
  },
  {
   "cell_type": "code",
   "execution_count": 3,
   "id": "44067292",
   "metadata": {},
   "outputs": [
    {
     "data": {
      "text/plain": [
       "['L3 Data Visualization.ipynb',\n",
       " 'L1 Data Preparation.ipynb',\n",
       " 'pandas_practice.ipynb',\n",
       " '.DS_Store',\n",
       " 'AlicornDataset.z',\n",
       " 'Merged_Data.csv',\n",
       " 'L2 Data Preprocessing.ipynb',\n",
       " 'DX062000030001',\n",
       " 'DX062000020001',\n",
       " '테이블명세서_tb_rk_entrp_info_m.xlsx',\n",
       " 'csv_tb_rk_entrp_info_m.csv',\n",
       " 'csv_tb_rk_empmn_info_m.csv',\n",
       " '테이블명세서_tb_rk_empmn_info_m.xlsx',\n",
       " '.ipynb_checkpoints',\n",
       " '.idea',\n",
       " 'Alldataset.z']"
      ]
     },
     "execution_count": 3,
     "metadata": {},
     "output_type": "execute_result"
    }
   ],
   "source": [
    "# 현재 작업경로 내의 파일명 출력\n",
    "os.listdir()"
   ]
  },
  {
   "cell_type": "markdown",
   "id": "0741e231",
   "metadata": {},
   "source": [
    "### 1. 기업정보 데이터"
   ]
  },
  {
   "cell_type": "code",
   "execution_count": 4,
   "id": "fd5fc0c8",
   "metadata": {},
   "outputs": [
    {
     "name": "stdout",
     "output_type": "stream",
     "text": [
      "b'\\xb1\\xe2\\xbe\\xf7\\xc0\\xcf\\xb7\\xc3\\xb9\\xf8\\xc8\\xa3,\\xbe\\xf7\\xc3\\xbc\\xb1\\xb9\\xb9'\n"
     ]
    }
   ],
   "source": [
    "file1 = 'csv_tb_rk_entrp_info_m.csv'\n",
    "\n",
    "# File1을 바이너리 모드로 읽는다.\n",
    "# 문자열 -> 인코딩된 byte 형식으로 가져옴\n",
    "\n",
    "raw1 = open(file = file1, mode ='rb').read()\n",
    "print(raw1[:20])"
   ]
  },
  {
   "cell_type": "code",
   "execution_count": 5,
   "id": "35125630",
   "metadata": {},
   "outputs": [
    {
     "name": "stdout",
     "output_type": "stream",
     "text": [
      "<class 'pandas.core.frame.DataFrame'>\n",
      "RangeIndex: 63219 entries, 0 to 63218\n",
      "Data columns (total 19 columns):\n",
      " #   Column    Non-Null Count  Dtype  \n",
      "---  ------    --------------  -----  \n",
      " 0   기업일련번호    63219 non-null  int64  \n",
      " 1   업체국문명     63187 non-null  object \n",
      " 2   업체영문명     19694 non-null  object \n",
      " 3   기업한줄소개내용  20315 non-null  object \n",
      " 4   기업소개상세내용  14777 non-null  object \n",
      " 5   설립일자      18703 non-null  float64\n",
      " 6   구성원수      2906 non-null   object \n",
      " 7   누적투자유치금액  2445 non-null   float64\n",
      " 8   홈페이지url   12775 non-null  object \n",
      " 9   소셜미디어url  4885 non-null   object \n",
      " 10  기업추천수     63219 non-null  int64  \n",
      " 11  기업추천내용    5504 non-null   object \n",
      " 12  산업구분명     21233 non-null  object \n",
      " 13  사무실주소     11296 non-null  object \n",
      " 14  기술스택명     6590 non-null   object \n",
      " 15  발행사명      6080 non-null   object \n",
      " 16  보도일자      6410 non-null   float64\n",
      " 17  뉴스제목명     6406 non-null   object \n",
      " 18  기사url     6410 non-null   object \n",
      "dtypes: float64(3), int64(2), object(14)\n",
      "memory usage: 9.2+ MB\n"
     ]
    },
    {
     "data": {
      "text/html": [
       "<div>\n",
       "<style scoped>\n",
       "    .dataframe tbody tr th:only-of-type {\n",
       "        vertical-align: middle;\n",
       "    }\n",
       "\n",
       "    .dataframe tbody tr th {\n",
       "        vertical-align: top;\n",
       "    }\n",
       "\n",
       "    .dataframe thead th {\n",
       "        text-align: right;\n",
       "    }\n",
       "</style>\n",
       "<table border=\"1\" class=\"dataframe\">\n",
       "  <thead>\n",
       "    <tr style=\"text-align: right;\">\n",
       "      <th></th>\n",
       "      <th>기업일련번호</th>\n",
       "      <th>업체국문명</th>\n",
       "      <th>업체영문명</th>\n",
       "      <th>기업한줄소개내용</th>\n",
       "      <th>기업소개상세내용</th>\n",
       "      <th>설립일자</th>\n",
       "      <th>구성원수</th>\n",
       "      <th>누적투자유치금액</th>\n",
       "      <th>홈페이지url</th>\n",
       "      <th>소셜미디어url</th>\n",
       "      <th>기업추천수</th>\n",
       "      <th>기업추천내용</th>\n",
       "      <th>산업구분명</th>\n",
       "      <th>사무실주소</th>\n",
       "      <th>기술스택명</th>\n",
       "      <th>발행사명</th>\n",
       "      <th>보도일자</th>\n",
       "      <th>뉴스제목명</th>\n",
       "      <th>기사url</th>\n",
       "    </tr>\n",
       "  </thead>\n",
       "  <tbody>\n",
       "    <tr>\n",
       "      <th>0</th>\n",
       "      <td>161069</td>\n",
       "      <td>코뿔소랩</td>\n",
       "      <td>NaN</td>\n",
       "      <td>NaN</td>\n",
       "      <td>NaN</td>\n",
       "      <td>NaN</td>\n",
       "      <td>NaN</td>\n",
       "      <td>NaN</td>\n",
       "      <td>NaN</td>\n",
       "      <td>NaN</td>\n",
       "      <td>0</td>\n",
       "      <td>NaN</td>\n",
       "      <td>NaN</td>\n",
       "      <td>NaN</td>\n",
       "      <td>NaN</td>\n",
       "      <td>NaN</td>\n",
       "      <td>NaN</td>\n",
       "      <td>NaN</td>\n",
       "      <td>NaN</td>\n",
       "    </tr>\n",
       "    <tr>\n",
       "      <th>1</th>\n",
       "      <td>116057</td>\n",
       "      <td>현대제이콤</td>\n",
       "      <td>NaN</td>\n",
       "      <td>NaN</td>\n",
       "      <td>NaN</td>\n",
       "      <td>NaN</td>\n",
       "      <td>NaN</td>\n",
       "      <td>NaN</td>\n",
       "      <td>NaN</td>\n",
       "      <td>NaN</td>\n",
       "      <td>0</td>\n",
       "      <td>NaN</td>\n",
       "      <td>NaN</td>\n",
       "      <td>NaN</td>\n",
       "      <td>NaN</td>\n",
       "      <td>NaN</td>\n",
       "      <td>NaN</td>\n",
       "      <td>NaN</td>\n",
       "      <td>NaN</td>\n",
       "    </tr>\n",
       "    <tr>\n",
       "      <th>2</th>\n",
       "      <td>161065</td>\n",
       "      <td>지티투자개발</td>\n",
       "      <td>NaN</td>\n",
       "      <td>NaN</td>\n",
       "      <td>NaN</td>\n",
       "      <td>NaN</td>\n",
       "      <td>NaN</td>\n",
       "      <td>NaN</td>\n",
       "      <td>NaN</td>\n",
       "      <td>NaN</td>\n",
       "      <td>0</td>\n",
       "      <td>NaN</td>\n",
       "      <td>NaN</td>\n",
       "      <td>NaN</td>\n",
       "      <td>NaN</td>\n",
       "      <td>NaN</td>\n",
       "      <td>NaN</td>\n",
       "      <td>NaN</td>\n",
       "      <td>NaN</td>\n",
       "    </tr>\n",
       "    <tr>\n",
       "      <th>3</th>\n",
       "      <td>161066</td>\n",
       "      <td>동성아트홀</td>\n",
       "      <td>NaN</td>\n",
       "      <td>NaN</td>\n",
       "      <td>NaN</td>\n",
       "      <td>NaN</td>\n",
       "      <td>NaN</td>\n",
       "      <td>NaN</td>\n",
       "      <td>NaN</td>\n",
       "      <td>NaN</td>\n",
       "      <td>0</td>\n",
       "      <td>NaN</td>\n",
       "      <td>NaN</td>\n",
       "      <td>NaN</td>\n",
       "      <td>NaN</td>\n",
       "      <td>NaN</td>\n",
       "      <td>NaN</td>\n",
       "      <td>NaN</td>\n",
       "      <td>NaN</td>\n",
       "    </tr>\n",
       "    <tr>\n",
       "      <th>4</th>\n",
       "      <td>161072</td>\n",
       "      <td>오픈부스</td>\n",
       "      <td>NaN</td>\n",
       "      <td>NaN</td>\n",
       "      <td>NaN</td>\n",
       "      <td>NaN</td>\n",
       "      <td>NaN</td>\n",
       "      <td>NaN</td>\n",
       "      <td>NaN</td>\n",
       "      <td>NaN</td>\n",
       "      <td>0</td>\n",
       "      <td>NaN</td>\n",
       "      <td>NaN</td>\n",
       "      <td>NaN</td>\n",
       "      <td>NaN</td>\n",
       "      <td>NaN</td>\n",
       "      <td>NaN</td>\n",
       "      <td>NaN</td>\n",
       "      <td>NaN</td>\n",
       "    </tr>\n",
       "  </tbody>\n",
       "</table>\n",
       "</div>"
      ],
      "text/plain": [
       "   기업일련번호   업체국문명 업체영문명 기업한줄소개내용 기업소개상세내용  설립일자 구성원수  누적투자유치금액 홈페이지url  \\\n",
       "0  161069    코뿔소랩   NaN      NaN      NaN   NaN  NaN       NaN     NaN   \n",
       "1  116057   현대제이콤   NaN      NaN      NaN   NaN  NaN       NaN     NaN   \n",
       "2  161065  지티투자개발   NaN      NaN      NaN   NaN  NaN       NaN     NaN   \n",
       "3  161066   동성아트홀   NaN      NaN      NaN   NaN  NaN       NaN     NaN   \n",
       "4  161072    오픈부스   NaN      NaN      NaN   NaN  NaN       NaN     NaN   \n",
       "\n",
       "  소셜미디어url  기업추천수 기업추천내용 산업구분명 사무실주소 기술스택명 발행사명  보도일자 뉴스제목명 기사url  \n",
       "0      NaN      0    NaN   NaN   NaN   NaN  NaN   NaN   NaN   NaN  \n",
       "1      NaN      0    NaN   NaN   NaN   NaN  NaN   NaN   NaN   NaN  \n",
       "2      NaN      0    NaN   NaN   NaN   NaN  NaN   NaN   NaN   NaN  \n",
       "3      NaN      0    NaN   NaN   NaN   NaN  NaN   NaN   NaN   NaN  \n",
       "4      NaN      0    NaN   NaN   NaN   NaN  NaN   NaN   NaN   NaN  "
      ]
     },
     "execution_count": 5,
     "metadata": {},
     "output_type": "execute_result"
    }
   ],
   "source": [
    "# file1 -> 데이터프레임 형성\n",
    "# encoding 지정 필수!\n",
    "ent = pd.read_csv(filepath_or_buffer = file1, encoding = 'CP949')\n",
    "\n",
    "ent.info()\n",
    "ent.head()"
   ]
  },
  {
   "cell_type": "code",
   "execution_count": 6,
   "id": "cfb04bb3",
   "metadata": {},
   "outputs": [
    {
     "data": {
      "text/html": [
       "<div>\n",
       "<style scoped>\n",
       "    .dataframe tbody tr th:only-of-type {\n",
       "        vertical-align: middle;\n",
       "    }\n",
       "\n",
       "    .dataframe tbody tr th {\n",
       "        vertical-align: top;\n",
       "    }\n",
       "\n",
       "    .dataframe thead th {\n",
       "        text-align: right;\n",
       "    }\n",
       "</style>\n",
       "<table border=\"1\" class=\"dataframe\">\n",
       "  <thead>\n",
       "    <tr style=\"text-align: right;\">\n",
       "      <th></th>\n",
       "      <th>기업일련번호</th>\n",
       "      <th>설립일자</th>\n",
       "      <th>누적투자유치금액</th>\n",
       "      <th>기업추천수</th>\n",
       "      <th>보도일자</th>\n",
       "    </tr>\n",
       "  </thead>\n",
       "  <tbody>\n",
       "    <tr>\n",
       "      <th>count</th>\n",
       "      <td>63219.00</td>\n",
       "      <td>18703.00</td>\n",
       "      <td>2.445000e+03</td>\n",
       "      <td>63219.00</td>\n",
       "      <td>6410.00</td>\n",
       "    </tr>\n",
       "    <tr>\n",
       "      <th>mean</th>\n",
       "      <td>76377.65</td>\n",
       "      <td>20106913.37</td>\n",
       "      <td>5.581215e+10</td>\n",
       "      <td>0.43</td>\n",
       "      <td>20185702.53</td>\n",
       "    </tr>\n",
       "    <tr>\n",
       "      <th>std</th>\n",
       "      <td>45446.46</td>\n",
       "      <td>199776.61</td>\n",
       "      <td>2.427029e+12</td>\n",
       "      <td>2.65</td>\n",
       "      <td>21154.72</td>\n",
       "    </tr>\n",
       "    <tr>\n",
       "      <th>min</th>\n",
       "      <td>1.00</td>\n",
       "      <td>16210101.00</td>\n",
       "      <td>1.000000e+01</td>\n",
       "      <td>0.00</td>\n",
       "      <td>20040302.00</td>\n",
       "    </tr>\n",
       "    <tr>\n",
       "      <th>25%</th>\n",
       "      <td>37844.50</td>\n",
       "      <td>20121116.00</td>\n",
       "      <td>2.000000e+08</td>\n",
       "      <td>0.00</td>\n",
       "      <td>20170613.25</td>\n",
       "    </tr>\n",
       "    <tr>\n",
       "      <th>50%</th>\n",
       "      <td>75502.00</td>\n",
       "      <td>20160211.00</td>\n",
       "      <td>1.000000e+09</td>\n",
       "      <td>0.00</td>\n",
       "      <td>20190426.50</td>\n",
       "    </tr>\n",
       "    <tr>\n",
       "      <th>75%</th>\n",
       "      <td>114565.50</td>\n",
       "      <td>20180703.00</td>\n",
       "      <td>4.180000e+09</td>\n",
       "      <td>0.00</td>\n",
       "      <td>20201120.00</td>\n",
       "    </tr>\n",
       "    <tr>\n",
       "      <th>max</th>\n",
       "      <td>161109.00</td>\n",
       "      <td>21050101.00</td>\n",
       "      <td>1.200000e+14</td>\n",
       "      <td>269.00</td>\n",
       "      <td>20211229.00</td>\n",
       "    </tr>\n",
       "  </tbody>\n",
       "</table>\n",
       "</div>"
      ],
      "text/plain": [
       "          기업일련번호         설립일자      누적투자유치금액     기업추천수         보도일자\n",
       "count   63219.00     18703.00  2.445000e+03  63219.00      6410.00\n",
       "mean    76377.65  20106913.37  5.581215e+10      0.43  20185702.53\n",
       "std     45446.46    199776.61  2.427029e+12      2.65     21154.72\n",
       "min         1.00  16210101.00  1.000000e+01      0.00  20040302.00\n",
       "25%     37844.50  20121116.00  2.000000e+08      0.00  20170613.25\n",
       "50%     75502.00  20160211.00  1.000000e+09      0.00  20190426.50\n",
       "75%    114565.50  20180703.00  4.180000e+09      0.00  20201120.00\n",
       "max    161109.00  21050101.00  1.200000e+14    269.00  20211229.00"
      ]
     },
     "execution_count": 6,
     "metadata": {},
     "output_type": "execute_result"
    }
   ],
   "source": [
    "# 데이터 - 기술통계랑(숫자형 열만 출력)\n",
    "# 기술통계량 : count, mean, min, max ....\n",
    "ent.describe().round(2)"
   ]
  },
  {
   "cell_type": "markdown",
   "id": "05fa207b",
   "metadata": {},
   "source": [
    "### 2. 채용정보 데이터"
   ]
  },
  {
   "cell_type": "code",
   "execution_count": 8,
   "id": "a84281e7",
   "metadata": {},
   "outputs": [
    {
     "data": {
      "text/plain": [
       "{'encoding': 'EUC-KR', 'confidence': 0.99, 'language': 'Korean'}"
      ]
     },
     "execution_count": 8,
     "metadata": {},
     "output_type": "execute_result"
    }
   ],
   "source": [
    "# file2 -> 인코딩\n",
    "file2 = 'csv_tb_rk_empmn_info_m.csv'\n",
    "raw2 = open(file = file2, mode = 'rb').read()\n",
    "\n",
    "# 인코딩 방식 확인\n",
    "chardet.detect(byte_str = raw2[:100])"
   ]
  },
  {
   "cell_type": "code",
   "execution_count": 9,
   "id": "f3b3294e",
   "metadata": {},
   "outputs": [
    {
     "name": "stdout",
     "output_type": "stream",
     "text": [
      "<class 'pandas.core.frame.DataFrame'>\n",
      "RangeIndex: 6873 entries, 0 to 6872\n",
      "Data columns (total 11 columns):\n",
      " #   Column    Non-Null Count  Dtype  \n",
      "---  ------    --------------  -----  \n",
      " 0   채용일련번호    6873 non-null   int64  \n",
      " 1   기업일련번호    6873 non-null   int64  \n",
      " 2   채용분야명     6873 non-null   object \n",
      " 3   경력구분명     6873 non-null   object \n",
      " 4   고용형태명     6873 non-null   object \n",
      " 5   연봉최소금액    6706 non-null   float64\n",
      " 6   연봉최대금액    6106 non-null   float64\n",
      " 7   스톡옵션최소금액  474 non-null    float64\n",
      " 8   스톡옵션최대금액  746 non-null    float64\n",
      " 9   관련전문기술명   6872 non-null   object \n",
      " 10  외국어명      875 non-null    object \n",
      "dtypes: float64(4), int64(2), object(5)\n",
      "memory usage: 590.8+ KB\n"
     ]
    },
    {
     "data": {
      "text/html": [
       "<div>\n",
       "<style scoped>\n",
       "    .dataframe tbody tr th:only-of-type {\n",
       "        vertical-align: middle;\n",
       "    }\n",
       "\n",
       "    .dataframe tbody tr th {\n",
       "        vertical-align: top;\n",
       "    }\n",
       "\n",
       "    .dataframe thead th {\n",
       "        text-align: right;\n",
       "    }\n",
       "</style>\n",
       "<table border=\"1\" class=\"dataframe\">\n",
       "  <thead>\n",
       "    <tr style=\"text-align: right;\">\n",
       "      <th></th>\n",
       "      <th>채용일련번호</th>\n",
       "      <th>기업일련번호</th>\n",
       "      <th>채용분야명</th>\n",
       "      <th>경력구분명</th>\n",
       "      <th>고용형태명</th>\n",
       "      <th>연봉최소금액</th>\n",
       "      <th>연봉최대금액</th>\n",
       "      <th>스톡옵션최소금액</th>\n",
       "      <th>스톡옵션최대금액</th>\n",
       "      <th>관련전문기술명</th>\n",
       "      <th>외국어명</th>\n",
       "    </tr>\n",
       "  </thead>\n",
       "  <tbody>\n",
       "    <tr>\n",
       "      <th>6868</th>\n",
       "      <td>80955</td>\n",
       "      <td>92835</td>\n",
       "      <td>디자인</td>\n",
       "      <td>경력</td>\n",
       "      <td>풀타임</td>\n",
       "      <td>220.0</td>\n",
       "      <td>NaN</td>\n",
       "      <td>NaN</td>\n",
       "      <td>NaN</td>\n",
       "      <td>광고디자인||브랜드디자인||Adobe Photoshop||Adobe Illustra...</td>\n",
       "      <td>NaN</td>\n",
       "    </tr>\n",
       "    <tr>\n",
       "      <th>6869</th>\n",
       "      <td>86226</td>\n",
       "      <td>134982</td>\n",
       "      <td>마케팅</td>\n",
       "      <td>경력||신입</td>\n",
       "      <td>풀타임</td>\n",
       "      <td>2800.0</td>\n",
       "      <td>3200.0</td>\n",
       "      <td>NaN</td>\n",
       "      <td>NaN</td>\n",
       "      <td>모바일 서비스||웹서비스||디지털 마케팅 디자인||금융||핀테크||platform|...</td>\n",
       "      <td>한국어||영어||중국어</td>\n",
       "    </tr>\n",
       "    <tr>\n",
       "      <th>6870</th>\n",
       "      <td>83752</td>\n",
       "      <td>133549</td>\n",
       "      <td>마케팅</td>\n",
       "      <td>경력||신입</td>\n",
       "      <td>풀타임</td>\n",
       "      <td>2500.0</td>\n",
       "      <td>5000.0</td>\n",
       "      <td>NaN</td>\n",
       "      <td>NaN</td>\n",
       "      <td>온라인마케팅||브랜드마케팅||디지털마케팅||바이럴마케팅||콘텐츠마케팅||Google...</td>\n",
       "      <td>NaN</td>\n",
       "    </tr>\n",
       "    <tr>\n",
       "      <th>6871</th>\n",
       "      <td>82831</td>\n",
       "      <td>32777</td>\n",
       "      <td>SW 개발</td>\n",
       "      <td>경력</td>\n",
       "      <td>풀타임|| 병역대체</td>\n",
       "      <td>4000.0</td>\n",
       "      <td>5000.0</td>\n",
       "      <td>1.0</td>\n",
       "      <td>2.0</td>\n",
       "      <td>graphql||React||TypeScript||Firebase||Google C...</td>\n",
       "      <td>영어</td>\n",
       "    </tr>\n",
       "    <tr>\n",
       "      <th>6872</th>\n",
       "      <td>85258</td>\n",
       "      <td>135263</td>\n",
       "      <td>SW 개발</td>\n",
       "      <td>경력</td>\n",
       "      <td>풀타임</td>\n",
       "      <td>5000.0</td>\n",
       "      <td>7000.0</td>\n",
       "      <td>NaN</td>\n",
       "      <td>NaN</td>\n",
       "      <td>Java||jQuery||JavaScript||Back-end||Front-end</td>\n",
       "      <td>NaN</td>\n",
       "    </tr>\n",
       "  </tbody>\n",
       "</table>\n",
       "</div>"
      ],
      "text/plain": [
       "      채용일련번호  기업일련번호  채용분야명   경력구분명       고용형태명  연봉최소금액  연봉최대금액  스톡옵션최소금액  \\\n",
       "6868   80955   92835    디자인      경력         풀타임   220.0     NaN       NaN   \n",
       "6869   86226  134982    마케팅  경력||신입         풀타임  2800.0  3200.0       NaN   \n",
       "6870   83752  133549    마케팅  경력||신입         풀타임  2500.0  5000.0       NaN   \n",
       "6871   82831   32777  SW 개발      경력  풀타임|| 병역대체  4000.0  5000.0       1.0   \n",
       "6872   85258  135263  SW 개발      경력         풀타임  5000.0  7000.0       NaN   \n",
       "\n",
       "      스톡옵션최대금액                                            관련전문기술명  \\\n",
       "6868       NaN  광고디자인||브랜드디자인||Adobe Photoshop||Adobe Illustra...   \n",
       "6869       NaN  모바일 서비스||웹서비스||디지털 마케팅 디자인||금융||핀테크||platform|...   \n",
       "6870       NaN  온라인마케팅||브랜드마케팅||디지털마케팅||바이럴마케팅||콘텐츠마케팅||Google...   \n",
       "6871       2.0  graphql||React||TypeScript||Firebase||Google C...   \n",
       "6872       NaN      Java||jQuery||JavaScript||Back-end||Front-end   \n",
       "\n",
       "              외국어명  \n",
       "6868           NaN  \n",
       "6869  한국어||영어||중국어  \n",
       "6870           NaN  \n",
       "6871            영어  \n",
       "6872           NaN  "
      ]
     },
     "execution_count": 9,
     "metadata": {},
     "output_type": "execute_result"
    }
   ],
   "source": [
    "# 엔코딩\n",
    "emp = pd.read_csv(filepath_or_buffer = file2, encoding = 'CP949')\n",
    "emp.info()\n",
    "emp.tail() # 기본 값: n=5"
   ]
  },
  {
   "cell_type": "code",
   "execution_count": 10,
   "id": "316878e9",
   "metadata": {},
   "outputs": [
    {
     "data": {
      "text/html": [
       "<div>\n",
       "<style scoped>\n",
       "    .dataframe tbody tr th:only-of-type {\n",
       "        vertical-align: middle;\n",
       "    }\n",
       "\n",
       "    .dataframe tbody tr th {\n",
       "        vertical-align: top;\n",
       "    }\n",
       "\n",
       "    .dataframe thead th {\n",
       "        text-align: right;\n",
       "    }\n",
       "</style>\n",
       "<table border=\"1\" class=\"dataframe\">\n",
       "  <thead>\n",
       "    <tr style=\"text-align: right;\">\n",
       "      <th></th>\n",
       "      <th>채용분야명</th>\n",
       "      <th>경력구분명</th>\n",
       "      <th>고용형태명</th>\n",
       "      <th>관련전문기술명</th>\n",
       "      <th>외국어명</th>\n",
       "    </tr>\n",
       "  </thead>\n",
       "  <tbody>\n",
       "    <tr>\n",
       "      <th>count</th>\n",
       "      <td>6873</td>\n",
       "      <td>6873</td>\n",
       "      <td>6873</td>\n",
       "      <td>6872</td>\n",
       "      <td>875</td>\n",
       "    </tr>\n",
       "    <tr>\n",
       "      <th>unique</th>\n",
       "      <td>10</td>\n",
       "      <td>7</td>\n",
       "      <td>12</td>\n",
       "      <td>6298</td>\n",
       "      <td>50</td>\n",
       "    </tr>\n",
       "    <tr>\n",
       "      <th>top</th>\n",
       "      <td>SW 개발</td>\n",
       "      <td>경력</td>\n",
       "      <td>풀타임</td>\n",
       "      <td>Python</td>\n",
       "      <td>영어</td>\n",
       "    </tr>\n",
       "    <tr>\n",
       "      <th>freq</th>\n",
       "      <td>3373</td>\n",
       "      <td>4000</td>\n",
       "      <td>6185</td>\n",
       "      <td>29</td>\n",
       "      <td>649</td>\n",
       "    </tr>\n",
       "  </tbody>\n",
       "</table>\n",
       "</div>"
      ],
      "text/plain": [
       "        채용분야명 경력구분명 고용형태명 관련전문기술명 외국어명\n",
       "count    6873  6873  6873    6872  875\n",
       "unique     10     7    12    6298   50\n",
       "top     SW 개발    경력   풀타임  Python   영어\n",
       "freq     3373  4000  6185      29  649"
      ]
     },
     "execution_count": 10,
     "metadata": {},
     "output_type": "execute_result"
    }
   ],
   "source": [
    "# emp 기술통계량 (object -> 문자형 열만 출력)\n",
    "emp.describe(include = 'object').round(2)"
   ]
  },
  {
   "cell_type": "markdown",
   "id": "cb8a4ddd",
   "metadata": {},
   "source": [
    "### 객체를 압축파일로 저장"
   ]
  },
  {
   "cell_type": "code",
   "execution_count": 11,
   "id": "a3b4e4ab",
   "metadata": {},
   "outputs": [],
   "source": [
    "import joblib"
   ]
  },
  {
   "cell_type": "code",
   "execution_count": 12,
   "id": "c022f6e5",
   "metadata": {},
   "outputs": [
    {
     "data": {
      "text/plain": [
       "['Alldataset.z']"
      ]
     },
     "execution_count": 12,
     "metadata": {},
     "output_type": "execute_result"
    }
   ],
   "source": [
    "# 두 개의 데이터프레임을 압축파일로 저장\n",
    "joblib.dump(value = [emp, ent], filename = 'Alldataset.z')"
   ]
  },
  {
   "cell_type": "code",
   "execution_count": 13,
   "id": "b01ed3ab",
   "metadata": {},
   "outputs": [
    {
     "data": {
      "text/plain": [
       "['L3 Data Visualization.ipynb',\n",
       " 'L1 Data Preparation.ipynb',\n",
       " 'pandas_practice.ipynb',\n",
       " '.DS_Store',\n",
       " 'AlicornDataset.z',\n",
       " 'Merged_Data.csv',\n",
       " 'L2 Data Preprocessing.ipynb',\n",
       " 'DX062000030001',\n",
       " 'DX062000020001',\n",
       " '테이블명세서_tb_rk_entrp_info_m.xlsx',\n",
       " 'csv_tb_rk_entrp_info_m.csv',\n",
       " 'csv_tb_rk_empmn_info_m.csv',\n",
       " '테이블명세서_tb_rk_empmn_info_m.xlsx',\n",
       " '.ipynb_checkpoints',\n",
       " '.idea',\n",
       " 'Alldataset.z']"
      ]
     },
     "execution_count": 13,
     "metadata": {},
     "output_type": "execute_result"
    }
   ],
   "source": [
    "# 저장 확인\n",
    "os.listdir()"
   ]
  },
  {
   "cell_type": "code",
   "execution_count": null,
   "id": "e7741bb4",
   "metadata": {},
   "outputs": [],
   "source": []
  }
 ],
 "metadata": {
  "kernelspec": {
   "display_name": "Python 3 (ipykernel)",
   "language": "python",
   "name": "python3"
  },
  "language_info": {
   "codemirror_mode": {
    "name": "ipython",
    "version": 3
   },
   "file_extension": ".py",
   "mimetype": "text/x-python",
   "name": "python",
   "nbconvert_exporter": "python",
   "pygments_lexer": "ipython3",
   "version": "3.9.12"
  }
 },
 "nbformat": 4,
 "nbformat_minor": 5
}
