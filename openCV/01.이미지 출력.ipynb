{
 "cells": [
  {
   "cell_type": "markdown",
   "id": "b2dba905",
   "metadata": {},
   "source": [
    "## 환경설정\n",
    "> pip3 install opencv-python"
   ]
  },
  {
   "cell_type": "code",
   "execution_count": null,
   "id": "3866840f",
   "metadata": {},
   "outputs": [],
   "source": [
    "import cv2\n",
    "cv2.__version__"
   ]
  },
  {
   "cell_type": "markdown",
   "id": "2785a6ba",
   "metadata": {},
   "source": [
    "## openCV (Computer Vision)\n",
    "---"
   ]
  },
  {
   "cell_type": "markdown",
   "id": "000cd4de",
   "metadata": {},
   "source": [
    "### 1) 이미지 출력"
   ]
  },
  {
   "cell_type": "code",
   "execution_count": 1,
   "id": "85008868",
   "metadata": {},
   "outputs": [
    {
     "name": "stdout",
     "output_type": "stream",
     "text": [
      "100\n"
     ]
    },
    {
     "data": {
      "text/plain": [
       "-1"
      ]
     },
     "execution_count": 1,
     "metadata": {},
     "output_type": "execute_result"
    }
   ],
   "source": [
    "import cv2\n",
    "img = cv2.imread('img.jpg')\n",
    "cv2.imshow('img', img) # img 이름의 창에 img를 표시\n",
    "key = cv2.waitKey(0) # 지정된 시간 동안 사용자 키 입력 대기\n",
    "print(key)\n",
    "cv2.destroyAllWindows()  # 모든 창 닫기\n",
    "cv2.waitKey(1)"
   ]
  },
  {
   "cell_type": "markdown",
   "id": "92c3978a",
   "metadata": {},
   "source": [
    "### 읽기 옵션\n",
    "1. cv2.IMREAD_COLOR : 컬러 이미지, 투명 영역 무시(기본값)\n",
    "2. cv2.IMREAD_GRAYSCALE : 흑백 이미지\n",
    "3. cv2.IMREAD_UNCHANGED : 투명 영역까지 포함\n"
   ]
  },
  {
   "cell_type": "code",
   "execution_count": 2,
   "id": "e4b3b93c",
   "metadata": {},
   "outputs": [
    {
     "data": {
      "text/plain": [
       "-1"
      ]
     },
     "execution_count": 2,
     "metadata": {},
     "output_type": "execute_result"
    }
   ],
   "source": [
    "import cv2\n",
    "img_color = cv2.imread('img.jpg', cv2.IMREAD_COLOR)\n",
    "img_gray = cv2.imread('img.jpg', cv2.IMREAD_GRAYSCALE)\n",
    "img_unchanged = cv2.imread('img.jpg', cv2.IMREAD_UNCHANGED)\n",
    "\n",
    "cv2.imshow('img_color', img_color)\n",
    "cv2.imshow('img_gray', img_gray)\n",
    "cv2.imshow('img_unchanged', img_unchanged)\n",
    "\n",
    "cv2.waitKey(0)\n",
    "cv2.destroyAllWindows()\n",
    "cv2.waitKey(1)"
   ]
  },
  {
   "cell_type": "markdown",
   "id": "fe3db25d",
   "metadata": {},
   "source": [
    "### shape\n",
    "    :이미지의 (height, width, channel) 정보"
   ]
  },
  {
   "cell_type": "code",
   "execution_count": 3,
   "id": "0b3c942b",
   "metadata": {},
   "outputs": [
    {
     "data": {
      "text/plain": [
       "(1172, 1920, 3)"
      ]
     },
     "execution_count": 3,
     "metadata": {},
     "output_type": "execute_result"
    }
   ],
   "source": [
    "import cv2\n",
    "img = cv2.imread('img.jpg')\n",
    "img.shape"
   ]
  },
  {
   "cell_type": "code",
   "execution_count": null,
   "id": "d1db4c10",
   "metadata": {},
   "outputs": [],
   "source": []
  }
 ],
 "metadata": {
  "kernelspec": {
   "display_name": "Python 3 (ipykernel)",
   "language": "python",
   "name": "python3"
  },
  "language_info": {
   "codemirror_mode": {
    "name": "ipython",
    "version": 3
   },
   "file_extension": ".py",
   "mimetype": "text/x-python",
   "name": "python",
   "nbconvert_exporter": "python",
   "pygments_lexer": "ipython3",
   "version": "3.9.12"
  }
 },
 "nbformat": 4,
 "nbformat_minor": 5
}
